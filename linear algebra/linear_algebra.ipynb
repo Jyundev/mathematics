{
 "cells": [
  {
   "cell_type": "code",
   "execution_count": 1,
   "metadata": {},
   "outputs": [],
   "source": [
    "import numpy as np  \n",
    "import matplotlib.pylab as plt  "
   ]
  },
  {
   "cell_type": "markdown",
   "metadata": {},
   "source": [
    "## 선형대수\n",
    "\n",
    "### 데이터의 유형\n",
    "\n",
    "선형대수에서 다루는 데이터는 개수나 형태에 따라 크게 스칼라(scalar), 벡터(vector), 행렬(matrix), 텐서(tensor) 유형으로 나뉜다.\n",
    "\n",
    "- 스칼라는 단 하나의 숫자로 이루어진 데이터를 나타냅니다.\n",
    "- 벡터는 여러 숫자로 이루어진 데이터 레코드, 즉 데이터의 한 행을 나타냅니다.\n",
    "- 행렬은 이러한 벡터, 즉 데이터 레코드가 여럿인 데이터 집합으로 구성됩니다.\n",
    "- 텐서는 같은 크기의 여러 행렬이 모여 있는 데이터 구조로 생각할 수 있습니다."
   ]
  },
  {
   "cell_type": "code",
   "execution_count": 2,
   "metadata": {},
   "outputs": [
    {
     "data": {
      "text/plain": [
       "array([5.1, 3.5, 1.4, 0.2])"
      ]
     },
     "execution_count": 2,
     "metadata": {},
     "output_type": "execute_result"
    }
   ],
   "source": [
    "from sklearn.datasets import load_iris  \n",
    "\n",
    "iris = load_iris()  # 데이터 로드\n",
    "iris.data[0, :]  # 첫 번째 꽃의 데이터"
   ]
  },
  {
   "cell_type": "markdown",
   "metadata": {},
   "source": [
    "#### 스칼라\n",
    "\n",
    "스칼라는 하나의 숫자만으로 이루어진 데이터를 말한다. \n",
    "\n",
    "스칼라는 보통 x와 같이 알파벳 소문자로 표기하며 실수(real number)인 숫자 중의 하나이므로 실수 집합 R의 원소라는 의미에서 다음처럼 표기한다.\n",
    "\n",
    "$$ x ∈ R $$"
   ]
  },
  {
   "cell_type": "markdown",
   "metadata": {},
   "source": [
    "#### 벡터\n",
    "\n",
    "벡터는 여러 개의 숫자가 특정한 순서대로 모여 있는 것을 말한다. \n",
    "\n",
    "예를 들어 붓꽃의 종을 알아내기 위해 붓꽃의 크기를 측정할 때, 꽃받침의 길이 x1뿐 아니라 꽃받침의 폭 x2, 꽃잎의 길이 x3, 꽃잎의 폭 x4라는 4개의 숫자를 측정할 수도 있다. 이런 데이터 묶음을 선형대수에서는 벡터라고 부른다.\n",
    "\n",
    "붓꽃의 크기 벡터는 4개의 데이터 (x1,x2,x3,x4)가 하나로 묶여 있는데 이를 선형대수 기호로는 다음처럼 하나의 문자 x로 표기한다."
   ]
  },
  {
   "cell_type": "markdown",
   "metadata": {},
   "source": [
    "$$ x=⎡⎢⎢⎢x1x2x3x4⎤⎦⎥⎥⎥ $$\n"
   ]
  }
 ],
 "metadata": {
  "kernelspec": {
   "display_name": "yun_env",
   "language": "python",
   "name": "python3"
  },
  "language_info": {
   "codemirror_mode": {
    "name": "ipython",
    "version": 3
   },
   "file_extension": ".py",
   "mimetype": "text/x-python",
   "name": "python",
   "nbconvert_exporter": "python",
   "pygments_lexer": "ipython3",
   "version": "3.8.18"
  }
 },
 "nbformat": 4,
 "nbformat_minor": 2
}
